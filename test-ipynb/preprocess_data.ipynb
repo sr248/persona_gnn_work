{
 "cells": [
  {
   "cell_type": "code",
   "execution_count": 1,
   "metadata": {},
   "outputs": [],
   "source": [
    "import pandas as pd\n",
    "import numpy as np\n",
    "from datetime import datetime"
   ]
  },
  {
   "attachments": {},
   "cell_type": "markdown",
   "metadata": {},
   "source": [
    "Input:\n",
    "```csv\n",
    "time,customer_key,branch,user,pc_name,pc_user,command_type,command_name\n",
    "2021-12-01T00:00:05.774,2108386,branch1663,user19493,pcName26646,pcUser29,プロセス,login\n",
    "2021-12-01T00:00:05.775,2108386,branch1663,user19493,pcName26646,pcUser29,プロセス,start\n",
    "2021-12-01T00:00:09.653,2101030,branch2156,user21542,pcName21710,pcUser21544,帳票出力,物件チラシ_賃貸借\n",
    "2021-12-01T00:00:16.331,2002204,branch1368,user8737,pcName17785,pcUser17786,データ操作,物件 > 賃貸募集一覧 > 部屋コピー\n",
    "2021-12-01T00:00:25.220,2002204,branch1055,user5557,pcName5558,pcUser5559,検索,賃貸募集一覧 > 再読込\n",
    "2021-12-01T00:00:34.821,2101030,branch2156,user21542,pcName21710,pcUser21544,帳票出力,物件チラシ_賃貸借\n",
    "2021-12-01T00:00:40.830,2100291,branch1537,user22168,pcName23063,pcUser23064,プロセス,end\n",
    "```\n",
    "\n",
    "Output:\n",
    "```csv\n",
    "session_id;user_id;item_id;time_stamp\n",
    "1;NA;35077;390072;2016-05-09T16:47:49\n",
    "1;NA;36118;487369;2016-05-09T16:47:49\n",
    "1;NA;129055;991416;2016-05-09T16:47:49\n",
    "2;NA;3147;883039;2016-05-09T16:47:49\n",
    "2;NA;32754;359839;2016-05-09T16:47:49\n",
    "2;NA;100747;38317;2016-05-09T16:47:49\n",
    "2;NA;32971;182759;2016-05-09T16:47:49\n",
    "session_id,user_id,command_id,timestamp\n",
    "1,1,1,2021-12-01 00:00:05.774\n",
    "1,1,2,2021-12-01 00:00:05.775\n",
    "1,1,6,2021-12-01 00:01:55.433\n",
    "2,2,3,2021-12-01 00:18:38.663\n",
    "2,2,3,2021-12-01 00:18:55.861\n",
    "```"
   ]
  },
  {
   "cell_type": "code",
   "execution_count": 3,
   "metadata": {},
   "outputs": [
    {
     "data": {
      "text/plain": [
       "'2023-06-09T16:47:49'"
      ]
     },
     "execution_count": 3,
     "metadata": {},
     "output_type": "execute_result"
    }
   ],
   "source": [
    "from datetime import datetime\n",
    "time = datetime.now()\n",
    "time.strftime('%Y-%m-%dT%H:%M:%S')"
   ]
  },
  {
   "cell_type": "code",
   "execution_count": 3,
   "metadata": {},
   "outputs": [],
   "source": [
    "path = '../downloads/202112userlogs.csv'\n",
    "userlogdf = pd.read_csv(path)\n",
    "# time,customer_key,branch,user,pc_name,pc_user,command_type,command_name"
   ]
  },
  {
   "cell_type": "code",
   "execution_count": 4,
   "metadata": {},
   "outputs": [],
   "source": [
    "time = pd.to_datetime(userlogdf['time'])\n",
    "userlogdf['time'] = time"
   ]
  },
  {
   "attachments": {},
   "cell_type": "markdown",
   "metadata": {},
   "source": [
    "## For test data"
   ]
  },
  {
   "cell_type": "code",
   "execution_count": 7,
   "metadata": {},
   "outputs": [
    {
     "data": {
      "text/plain": [
       "0     2021-12-01T00:00:05\n",
       "1     2021-12-01T00:00:05\n",
       "2     2021-12-01T00:00:09\n",
       "3     2021-12-01T00:00:16\n",
       "4     2021-12-01T00:00:25\n",
       "             ...         \n",
       "95    2021-12-01T00:11:15\n",
       "96    2021-12-01T00:11:26\n",
       "97    2021-12-01T00:11:39\n",
       "98    2021-12-01T00:11:41\n",
       "99    2021-12-01T00:11:45\n",
       "Name: time, Length: 100, dtype: object"
      ]
     },
     "execution_count": 7,
     "metadata": {},
     "output_type": "execute_result"
    }
   ],
   "source": [
    "time[0:100].map(lambda x: x.strftime('%Y-%m-%dT%H:%M:%S'))"
   ]
  },
  {
   "cell_type": "code",
   "execution_count": 33,
   "metadata": {},
   "outputs": [],
   "source": [
    "userlogdf.head(1000).to_csv('./downloads/eseikatsu-sample.csv')"
   ]
  },
  {
   "cell_type": "code",
   "execution_count": 38,
   "metadata": {},
   "outputs": [
    {
     "data": {
      "text/plain": [
       "41"
      ]
     },
     "execution_count": 38,
     "metadata": {},
     "output_type": "execute_result"
    }
   ],
   "source": [
    "userlogdf.head(1000)['pc_name'].unique().__len__()"
   ]
  },
  {
   "cell_type": "code",
   "execution_count": 39,
   "metadata": {},
   "outputs": [
    {
     "data": {
      "text/plain": [
       "{('プロセス', 'login'): 1,\n",
       " ('プロセス', 'start'): 2,\n",
       " ('帳票出力', '物件チラシ_賃貸借'): 3,\n",
       " ('データ操作', '物件 > 賃貸募集一覧 > 部屋コピー'): 4,\n",
       " ('検索', '賃貸募集一覧 > 再読込'): 5,\n",
       " ('プロセス', 'end'): 6,\n",
       " ('データ操作', '物件 > 募集物件詳細 > 物件保存'): 7,\n",
       " ('検索', '賃貸募集一覧 > 検索'): 8,\n",
       " ('データ操作', '物件初期登録ウィザード > 賃貸 物件新規作成'): 9,\n",
       " ('検索', '売買募集一覧 > 検索'): 10,\n",
       " ('データ操作', '物件 > 賃貸募集一覧 > 建物コピー'): 11,\n",
       " ('帳票出力', '契約状況集計'): 12,\n",
       " ('帳票出力', '賃貸借契約一覧'): 13,\n",
       " ('データ操作', '物件初期登録ウィザード > 売買 物件新規作成'): 14,\n",
       " ('データ操作', '物件 > 売買物件詳細 > 建物コピー'): 15,\n",
       " ('プロセス', 'logout'): 16,\n",
       " ('帳票出力', '追客一覧'): 17,\n",
       " ('データ操作', '顧客 > 顧客詳細 > 顧客保存'): 18,\n",
       " ('帳票出力', 'chintaishaku_new_chintaishakukeiyakusyo_futu_kyoju'): 19,\n",
       " ('帳票出力', '入出金実績'): 20,\n",
       " ('帳票出力', '売上管理一覧'): 21,\n",
       " ('データ操作',\n",
       "  '顧客 > ES.Client.Kokyaku.Command.DeleteKokyakuCommand%2C%20client-kokyaku%2C%20Version%3D1.0.0.0%2C%20Culture%3Dneutral%2C%20PublicKeyToken%3Dbbb8b4a374b5c656'): 22,\n",
       " ('帳票出力', '空室一覧'): 23,\n",
       " ('データ操作', '契約 > 賃貸借契約詳細 > 契約保存'): 24,\n",
       " ('帳票出力', '案件一覧'): 25,\n",
       " ('帳票出力', '入出金一覧表'): 26,\n",
       " ('検索', '賃貸募集一覧 > Sort'): 27,\n",
       " ('帳票出力', '賃貸募集一覧'): 28}"
      ]
     },
     "execution_count": 39,
     "metadata": {},
     "output_type": "execute_result"
    }
   ],
   "source": [
    "import pickle\n",
    "with open('./out-data/command_id_map.pkl', 'rb') as f:\n",
    "    command_id_map = pickle.load(f)\n",
    "command_id_map"
   ]
  },
  {
   "cell_type": "code",
   "execution_count": 41,
   "metadata": {},
   "outputs": [
    {
     "data": {
      "text/html": [
       "<div>\n",
       "<style scoped>\n",
       "    .dataframe tbody tr th:only-of-type {\n",
       "        vertical-align: middle;\n",
       "    }\n",
       "\n",
       "    .dataframe tbody tr th {\n",
       "        vertical-align: top;\n",
       "    }\n",
       "\n",
       "    .dataframe thead th {\n",
       "        text-align: right;\n",
       "    }\n",
       "</style>\n",
       "<table border=\"1\" class=\"dataframe\">\n",
       "  <thead>\n",
       "    <tr style=\"text-align: right;\">\n",
       "      <th></th>\n",
       "      <th>session_id</th>\n",
       "      <th>user_id</th>\n",
       "      <th>command_id</th>\n",
       "      <th>timestamp</th>\n",
       "    </tr>\n",
       "  </thead>\n",
       "  <tbody>\n",
       "    <tr>\n",
       "      <th>0</th>\n",
       "      <td>1</td>\n",
       "      <td>1</td>\n",
       "      <td>1</td>\n",
       "      <td>2021-12-01 00:00:05.774</td>\n",
       "    </tr>\n",
       "    <tr>\n",
       "      <th>1</th>\n",
       "      <td>1</td>\n",
       "      <td>1</td>\n",
       "      <td>2</td>\n",
       "      <td>2021-12-01 00:00:05.775</td>\n",
       "    </tr>\n",
       "    <tr>\n",
       "      <th>2</th>\n",
       "      <td>1</td>\n",
       "      <td>1</td>\n",
       "      <td>6</td>\n",
       "      <td>2021-12-01 00:01:55.433</td>\n",
       "    </tr>\n",
       "    <tr>\n",
       "      <th>3</th>\n",
       "      <td>2</td>\n",
       "      <td>2</td>\n",
       "      <td>3</td>\n",
       "      <td>2021-12-01 00:18:38.663</td>\n",
       "    </tr>\n",
       "    <tr>\n",
       "      <th>4</th>\n",
       "      <td>2</td>\n",
       "      <td>2</td>\n",
       "      <td>3</td>\n",
       "      <td>2021-12-01 00:18:55.861</td>\n",
       "    </tr>\n",
       "    <tr>\n",
       "      <th>...</th>\n",
       "      <td>...</td>\n",
       "      <td>...</td>\n",
       "      <td>...</td>\n",
       "      <td>...</td>\n",
       "    </tr>\n",
       "    <tr>\n",
       "      <th>995</th>\n",
       "      <td>189</td>\n",
       "      <td>40</td>\n",
       "      <td>8</td>\n",
       "      <td>2021-12-01 00:52:13.268</td>\n",
       "    </tr>\n",
       "    <tr>\n",
       "      <th>996</th>\n",
       "      <td>190</td>\n",
       "      <td>41</td>\n",
       "      <td>2</td>\n",
       "      <td>2021-12-01 00:58:27.145</td>\n",
       "    </tr>\n",
       "    <tr>\n",
       "      <th>997</th>\n",
       "      <td>190</td>\n",
       "      <td>41</td>\n",
       "      <td>8</td>\n",
       "      <td>2021-12-01 00:58:57.983</td>\n",
       "    </tr>\n",
       "    <tr>\n",
       "      <th>998</th>\n",
       "      <td>190</td>\n",
       "      <td>41</td>\n",
       "      <td>7</td>\n",
       "      <td>2021-12-01 00:59:59.158</td>\n",
       "    </tr>\n",
       "    <tr>\n",
       "      <th>999</th>\n",
       "      <td>190</td>\n",
       "      <td>41</td>\n",
       "      <td>1</td>\n",
       "      <td>2021-12-01 00:58:27.928</td>\n",
       "    </tr>\n",
       "  </tbody>\n",
       "</table>\n",
       "<p>1000 rows × 4 columns</p>\n",
       "</div>"
      ],
      "text/plain": [
       "     session_id  user_id  command_id                timestamp\n",
       "0             1        1           1  2021-12-01 00:00:05.774\n",
       "1             1        1           2  2021-12-01 00:00:05.775\n",
       "2             1        1           6  2021-12-01 00:01:55.433\n",
       "3             2        2           3  2021-12-01 00:18:38.663\n",
       "4             2        2           3  2021-12-01 00:18:55.861\n",
       "..          ...      ...         ...                      ...\n",
       "995         189       40           8  2021-12-01 00:52:13.268\n",
       "996         190       41           2  2021-12-01 00:58:27.145\n",
       "997         190       41           8  2021-12-01 00:58:57.983\n",
       "998         190       41           7  2021-12-01 00:59:59.158\n",
       "999         190       41           1  2021-12-01 00:58:27.928\n",
       "\n",
       "[1000 rows x 4 columns]"
      ]
     },
     "execution_count": 41,
     "metadata": {},
     "output_type": "execute_result"
    }
   ],
   "source": [
    "df = pd.read_csv('./out-data/eseikatsu.csv')\n",
    "df"
   ]
  },
  {
   "attachments": {},
   "cell_type": "markdown",
   "metadata": {},
   "source": [
    "## 一意のユーザID再振り分け"
   ]
  },
  {
   "cell_type": "code",
   "execution_count": 73,
   "metadata": {},
   "outputs": [
    {
     "data": {
      "text/plain": [
       "(7956006, 8)"
      ]
     },
     "execution_count": 73,
     "metadata": {},
     "output_type": "execute_result"
    }
   ],
   "source": [
    "userlogdf.shape"
   ]
  },
  {
   "cell_type": "code",
   "execution_count": 5,
   "metadata": {},
   "outputs": [
    {
     "name": "stdout",
     "output_type": "stream",
     "text": [
      "7956006\n"
     ]
    }
   ],
   "source": [
    "user_df = userlogdf[['customer_key', 'user', 'pc_name', 'pc_user']]\n",
    "user_df = user_df[~user_df.duplicated()]\n",
    "# print(user_df.shape)\n",
    "# print(user_df['pc_user'].unique().shape)\n",
    "# print(user_df['pc_name'].unique().shape)\n",
    "# print(user_df['user'].unique().shape)\n",
    "user_id = list(range(1, len(user_df)+1))\n",
    "# print(len(user_id))\n",
    "user_id_map = dict()\n",
    "for i, v in enumerate(user_df[['customer_key', 'user', 'pc_name', 'pc_user']].values):\n",
    "    # print(tuple(v))                  \n",
    "    user_id_map[tuple(v)] = i + 1\n",
    "user_id = []\n",
    "for row in userlogdf[['customer_key', 'user', 'pc_name', 'pc_user']].itertuples():\n",
    "    map_key = tuple(row)[1:] # remove [0]index\n",
    "    user_id.append(user_id_map[map_key])\n",
    "print(len(user_id))"
   ]
  },
  {
   "cell_type": "code",
   "execution_count": 22,
   "metadata": {},
   "outputs": [
    {
     "data": {
      "text/plain": [
       "customer_key     int64\n",
       "user            object\n",
       "pc_name         object\n",
       "pc_user         object\n",
       "user_id          int64\n",
       "dtype: object"
      ]
     },
     "execution_count": 22,
     "metadata": {},
     "output_type": "execute_result"
    }
   ],
   "source": [
    "user_df[0:1].dtypes"
   ]
  },
  {
   "cell_type": "code",
   "execution_count": 40,
   "metadata": {},
   "outputs": [
    {
     "data": {
      "text/plain": [
       "customer_key        2108386\n",
       "user              user19493\n",
       "pc_name         pcName26646\n",
       "pc_user            pcUser29\n",
       "Name: 0, dtype: object"
      ]
     },
     "execution_count": 40,
     "metadata": {},
     "output_type": "execute_result"
    }
   ],
   "source": [
    "# test\n",
    "map = {\n",
    "    (2108386, 'user19493', 'pcName266646', 'pcUser29'): 1\n",
    "}\n",
    "map[(2108386, 'user19493', 'pcName266646', 'pcUser29')]\n",
    "user_df[0:1][['customer_key', 'user', 'pc_name', 'pc_user']].iloc[0]\n",
    "map[tuple(user_df[0:1][['customer_key', 'user', 'pc_name', 'pc_user']].iloc[0])]"
   ]
  },
  {
   "attachments": {},
   "cell_type": "markdown",
   "metadata": {},
   "source": [
    "## 一意のコマンドIDの割り振り"
   ]
  },
  {
   "cell_type": "code",
   "execution_count": 6,
   "metadata": {},
   "outputs": [
    {
     "name": "stdout",
     "output_type": "stream",
     "text": [
      "7956006\n"
     ]
    }
   ],
   "source": [
    "command_df = userlogdf[['command_type', 'command_name']]\n",
    "command_df = command_df[~command_df.duplicated()]\n",
    "command_id = list(range(1, len(command_df)+1))\n",
    "# print(len(user_id))\n",
    "command_id_map = dict()\n",
    "for i, v in enumerate(command_df[['command_type', 'command_name']].values):\n",
    "    # print(tuple(v))\n",
    "    command_id_map[tuple(v)] = i + 1\n",
    "command_id = []\n",
    "for row in userlogdf[['command_type', 'command_name']].itertuples():\n",
    "    map_key = tuple(row)[1:] # remove [0]index\n",
    "    command_id.append(command_id_map[map_key])\n",
    "print(len(command_id))"
   ]
  },
  {
   "attachments": {},
   "cell_type": "markdown",
   "metadata": {},
   "source": [
    "## セッション番号の割り振り"
   ]
  },
  {
   "cell_type": "code",
   "execution_count": 13,
   "metadata": {},
   "outputs": [],
   "source": [
    "prepreprocess_df = pd.DataFrame(np.array([user_id, command_id]).T, columns=['user_id', 'command_id'])\n",
    "prepreprocess_df['timestamp'] = userlogdf.time\n",
    "prepreprocess_df.sort_values('user_id', inplace=True)"
   ]
  },
  {
   "cell_type": "code",
   "execution_count": 14,
   "metadata": {},
   "outputs": [
    {
     "data": {
      "text/html": [
       "<div>\n",
       "<style scoped>\n",
       "    .dataframe tbody tr th:only-of-type {\n",
       "        vertical-align: middle;\n",
       "    }\n",
       "\n",
       "    .dataframe tbody tr th {\n",
       "        vertical-align: top;\n",
       "    }\n",
       "\n",
       "    .dataframe thead th {\n",
       "        text-align: right;\n",
       "    }\n",
       "</style>\n",
       "<table border=\"1\" class=\"dataframe\">\n",
       "  <thead>\n",
       "    <tr style=\"text-align: right;\">\n",
       "      <th></th>\n",
       "      <th>user_id</th>\n",
       "      <th>command_id</th>\n",
       "      <th>timestamp</th>\n",
       "    </tr>\n",
       "  </thead>\n",
       "  <tbody>\n",
       "    <tr>\n",
       "      <th>0</th>\n",
       "      <td>1</td>\n",
       "      <td>1</td>\n",
       "      <td>2021-12-01 00:00:05.774</td>\n",
       "    </tr>\n",
       "    <tr>\n",
       "      <th>7699987</th>\n",
       "      <td>1</td>\n",
       "      <td>2</td>\n",
       "      <td>2021-12-27 21:12:37.645</td>\n",
       "    </tr>\n",
       "    <tr>\n",
       "      <th>7699989</th>\n",
       "      <td>1</td>\n",
       "      <td>1</td>\n",
       "      <td>2021-12-27 21:12:38.419</td>\n",
       "    </tr>\n",
       "    <tr>\n",
       "      <th>7699990</th>\n",
       "      <td>1</td>\n",
       "      <td>301</td>\n",
       "      <td>2021-12-27 21:12:38.424</td>\n",
       "    </tr>\n",
       "    <tr>\n",
       "      <th>2304813</th>\n",
       "      <td>1</td>\n",
       "      <td>16</td>\n",
       "      <td>2021-12-11 21:36:49.424</td>\n",
       "    </tr>\n",
       "    <tr>\n",
       "      <th>...</th>\n",
       "      <td>...</td>\n",
       "      <td>...</td>\n",
       "      <td>...</td>\n",
       "    </tr>\n",
       "    <tr>\n",
       "      <th>7955634</th>\n",
       "      <td>30175</td>\n",
       "      <td>298</td>\n",
       "      <td>2021-12-31 20:35:10.548</td>\n",
       "    </tr>\n",
       "    <tr>\n",
       "      <th>7955650</th>\n",
       "      <td>30176</td>\n",
       "      <td>7</td>\n",
       "      <td>2021-12-31 20:38:15.307</td>\n",
       "    </tr>\n",
       "    <tr>\n",
       "      <th>7955842</th>\n",
       "      <td>30177</td>\n",
       "      <td>306</td>\n",
       "      <td>2021-12-31 21:29:22.718</td>\n",
       "    </tr>\n",
       "    <tr>\n",
       "      <th>7955880</th>\n",
       "      <td>30178</td>\n",
       "      <td>298</td>\n",
       "      <td>2021-12-31 21:45:19.195</td>\n",
       "    </tr>\n",
       "    <tr>\n",
       "      <th>7955891</th>\n",
       "      <td>30179</td>\n",
       "      <td>18</td>\n",
       "      <td>2021-12-31 21:47:37.282</td>\n",
       "    </tr>\n",
       "  </tbody>\n",
       "</table>\n",
       "<p>7956006 rows × 3 columns</p>\n",
       "</div>"
      ],
      "text/plain": [
       "         user_id  command_id               timestamp\n",
       "0              1           1 2021-12-01 00:00:05.774\n",
       "7699987        1           2 2021-12-27 21:12:37.645\n",
       "7699989        1           1 2021-12-27 21:12:38.419\n",
       "7699990        1         301 2021-12-27 21:12:38.424\n",
       "2304813        1          16 2021-12-11 21:36:49.424\n",
       "...          ...         ...                     ...\n",
       "7955634    30175         298 2021-12-31 20:35:10.548\n",
       "7955650    30176           7 2021-12-31 20:38:15.307\n",
       "7955842    30177         306 2021-12-31 21:29:22.718\n",
       "7955880    30178         298 2021-12-31 21:45:19.195\n",
       "7955891    30179          18 2021-12-31 21:47:37.282\n",
       "\n",
       "[7956006 rows x 3 columns]"
      ]
     },
     "execution_count": 14,
     "metadata": {},
     "output_type": "execute_result"
    }
   ],
   "source": [
    "prepreprocess_df"
   ]
  },
  {
   "cell_type": "code",
   "execution_count": 22,
   "metadata": {},
   "outputs": [
    {
     "data": {
      "text/plain": [
       "False"
      ]
     },
     "execution_count": 22,
     "metadata": {},
     "output_type": "execute_result"
    }
   ],
   "source": [
    "# test\n",
    "(prepreprocess_df.iloc[1]['user_id'] != prepreprocess_df.iloc[0]['user_id'])"
   ]
  },
  {
   "cell_type": "code",
   "execution_count": 27,
   "metadata": {},
   "outputs": [],
   "source": [
    "session_id = [1]\n",
    "cur_session_id = 1\n",
    "pre_row = prepreprocess_df.iloc[0]\n",
    "PIVOT_SECOND = 15 * 60\n",
    "for row in prepreprocess_df[1:].itertuples():\n",
    "    # 0:index, 1: user_id, 2:command_id, 3:timestamp\n",
    "    # print(row)\n",
    "    # print(row.timestamp)\n",
    "    if (row.timestamp - pre_row.timestamp).total_seconds() > PIVOT_SECOND or row.user_id != pre_row.user_id:\n",
    "        cur_session_id += 1\n",
    "    session_id.append(cur_session_id)\n",
    "    pre_row = row\n",
    "# prepreprocess_df['session_id'] = session_id"
   ]
  },
  {
   "cell_type": "code",
   "execution_count": 28,
   "metadata": {},
   "outputs": [
    {
     "name": "stdout",
     "output_type": "stream",
     "text": [
      "3790028\n"
     ]
    }
   ],
   "source": [
    "print(cur_session_id)"
   ]
  },
  {
   "cell_type": "code",
   "execution_count": 31,
   "metadata": {},
   "outputs": [],
   "source": [
    "prepreprocess_df.insert(0, 'session_id', session_id)"
   ]
  },
  {
   "cell_type": "code",
   "execution_count": 32,
   "metadata": {},
   "outputs": [
    {
     "data": {
      "text/html": [
       "<div>\n",
       "<style scoped>\n",
       "    .dataframe tbody tr th:only-of-type {\n",
       "        vertical-align: middle;\n",
       "    }\n",
       "\n",
       "    .dataframe tbody tr th {\n",
       "        vertical-align: top;\n",
       "    }\n",
       "\n",
       "    .dataframe thead th {\n",
       "        text-align: right;\n",
       "    }\n",
       "</style>\n",
       "<table border=\"1\" class=\"dataframe\">\n",
       "  <thead>\n",
       "    <tr style=\"text-align: right;\">\n",
       "      <th></th>\n",
       "      <th>session_id</th>\n",
       "      <th>user_id</th>\n",
       "      <th>command_id</th>\n",
       "      <th>timestamp</th>\n",
       "    </tr>\n",
       "  </thead>\n",
       "  <tbody>\n",
       "    <tr>\n",
       "      <th>0</th>\n",
       "      <td>1</td>\n",
       "      <td>1</td>\n",
       "      <td>1</td>\n",
       "      <td>2021-12-01 00:00:05.774</td>\n",
       "    </tr>\n",
       "    <tr>\n",
       "      <th>7699987</th>\n",
       "      <td>2</td>\n",
       "      <td>1</td>\n",
       "      <td>2</td>\n",
       "      <td>2021-12-27 21:12:37.645</td>\n",
       "    </tr>\n",
       "    <tr>\n",
       "      <th>7699989</th>\n",
       "      <td>2</td>\n",
       "      <td>1</td>\n",
       "      <td>1</td>\n",
       "      <td>2021-12-27 21:12:38.419</td>\n",
       "    </tr>\n",
       "    <tr>\n",
       "      <th>7699990</th>\n",
       "      <td>2</td>\n",
       "      <td>1</td>\n",
       "      <td>301</td>\n",
       "      <td>2021-12-27 21:12:38.424</td>\n",
       "    </tr>\n",
       "    <tr>\n",
       "      <th>2304813</th>\n",
       "      <td>2</td>\n",
       "      <td>1</td>\n",
       "      <td>16</td>\n",
       "      <td>2021-12-11 21:36:49.424</td>\n",
       "    </tr>\n",
       "    <tr>\n",
       "      <th>...</th>\n",
       "      <td>...</td>\n",
       "      <td>...</td>\n",
       "      <td>...</td>\n",
       "      <td>...</td>\n",
       "    </tr>\n",
       "    <tr>\n",
       "      <th>7955634</th>\n",
       "      <td>3790024</td>\n",
       "      <td>30175</td>\n",
       "      <td>298</td>\n",
       "      <td>2021-12-31 20:35:10.548</td>\n",
       "    </tr>\n",
       "    <tr>\n",
       "      <th>7955650</th>\n",
       "      <td>3790025</td>\n",
       "      <td>30176</td>\n",
       "      <td>7</td>\n",
       "      <td>2021-12-31 20:38:15.307</td>\n",
       "    </tr>\n",
       "    <tr>\n",
       "      <th>7955842</th>\n",
       "      <td>3790026</td>\n",
       "      <td>30177</td>\n",
       "      <td>306</td>\n",
       "      <td>2021-12-31 21:29:22.718</td>\n",
       "    </tr>\n",
       "    <tr>\n",
       "      <th>7955880</th>\n",
       "      <td>3790027</td>\n",
       "      <td>30178</td>\n",
       "      <td>298</td>\n",
       "      <td>2021-12-31 21:45:19.195</td>\n",
       "    </tr>\n",
       "    <tr>\n",
       "      <th>7955891</th>\n",
       "      <td>3790028</td>\n",
       "      <td>30179</td>\n",
       "      <td>18</td>\n",
       "      <td>2021-12-31 21:47:37.282</td>\n",
       "    </tr>\n",
       "  </tbody>\n",
       "</table>\n",
       "<p>7956006 rows × 4 columns</p>\n",
       "</div>"
      ],
      "text/plain": [
       "         session_id  user_id  command_id               timestamp\n",
       "0                 1        1           1 2021-12-01 00:00:05.774\n",
       "7699987           2        1           2 2021-12-27 21:12:37.645\n",
       "7699989           2        1           1 2021-12-27 21:12:38.419\n",
       "7699990           2        1         301 2021-12-27 21:12:38.424\n",
       "2304813           2        1          16 2021-12-11 21:36:49.424\n",
       "...             ...      ...         ...                     ...\n",
       "7955634     3790024    30175         298 2021-12-31 20:35:10.548\n",
       "7955650     3790025    30176           7 2021-12-31 20:38:15.307\n",
       "7955842     3790026    30177         306 2021-12-31 21:29:22.718\n",
       "7955880     3790027    30178         298 2021-12-31 21:45:19.195\n",
       "7955891     3790028    30179          18 2021-12-31 21:47:37.282\n",
       "\n",
       "[7956006 rows x 4 columns]"
      ]
     },
     "execution_count": 32,
     "metadata": {},
     "output_type": "execute_result"
    }
   ],
   "source": [
    "prepreprocess_df"
   ]
  },
  {
   "cell_type": "code",
   "execution_count": 51,
   "metadata": {},
   "outputs": [
    {
     "data": {
      "text/plain": [
       "0.001"
      ]
     },
     "execution_count": 51,
     "metadata": {},
     "output_type": "execute_result"
    }
   ],
   "source": [
    "# test\n",
    "# for low in userlogdf[]\n",
    "# userlogdf[1].time - userlogdf[0].time\n",
    "delta = userlogdf.iloc[1].time - userlogdf.iloc[0].time\n",
    "delta.total_seconds()"
   ]
  },
  {
   "attachments": {},
   "cell_type": "markdown",
   "metadata": {},
   "source": [
    "## 組み合わせます"
   ]
  },
  {
   "cell_type": "code",
   "execution_count": 78,
   "metadata": {},
   "outputs": [
    {
     "ename": "NameError",
     "evalue": "name 'session_id' is not defined",
     "output_type": "error",
     "traceback": [
      "\u001b[1;31m---------------------------------------------------------------------------\u001b[0m",
      "\u001b[1;31mNameError\u001b[0m                                 Traceback (most recent call last)",
      "Cell \u001b[1;32mIn[78], line 2\u001b[0m\n\u001b[0;32m      1\u001b[0m \u001b[39m# session_id;user_id;item_id;timestamp\u001b[39;00m\n\u001b[1;32m----> 2\u001b[0m prepreprocessed_df \u001b[39m=\u001b[39m pd\u001b[39m.\u001b[39mDataFrame([session_id, user_id, command_id, userlogdf\u001b[39m.\u001b[39mtime])\n\u001b[0;32m      3\u001b[0m prepreprocessed_df\u001b[39m.\u001b[39mto_csv(\u001b[39m'\u001b[39m\u001b[39m./SR-GNN/datasets/eseikatsu.csv\u001b[39m\u001b[39m'\u001b[39m)\n",
      "\u001b[1;31mNameError\u001b[0m: name 'session_id' is not defined"
     ]
    }
   ],
   "source": [
    "# session_id;user_id;item_id;timestamp\n",
    "prepreprocess_df.to_csv('./SR-GNN/datasets/eseikatsu.csv')"
   ]
  }
 ],
 "metadata": {
  "kernelspec": {
   "display_name": "env",
   "language": "python",
   "name": "python3"
  },
  "language_info": {
   "codemirror_mode": {
    "name": "ipython",
    "version": 3
   },
   "file_extension": ".py",
   "mimetype": "text/x-python",
   "name": "python",
   "nbconvert_exporter": "python",
   "pygments_lexer": "ipython3",
   "version": "3.11.3"
  },
  "orig_nbformat": 4
 },
 "nbformat": 4,
 "nbformat_minor": 2
}
